{
 "cells": [
  {
   "cell_type": "code",
   "execution_count": 2,
   "metadata": {},
   "outputs": [],
   "source": [
    "import sys\n",
    "from Crypto.Cipher import AES"
   ]
  },
  {
   "cell_type": "code",
   "execution_count": 19,
   "metadata": {},
   "outputs": [],
   "source": [
    "def decrypt(ciphertext, key, iv):\n",
    "\n",
    "    cipher = AES.new(key, AES.MODE_CBC, iv)\n",
    "    decrypted = cipher.decrypt(ciphertext)\n",
    "    pad_len = decrypted[-1]\n",
    "    if pad_len > 16:\n",
    "        return None\n",
    "    return decrypted[:-pad_len]"
   ]
  },
  {
   "cell_type": "code",
   "execution_count": 20,
   "metadata": {},
   "outputs": [],
   "source": [
    "def main():\n",
    "\n",
    "    plaintext = b'This is a top secret.'\n",
    "\n",
    "    cipher_hex = \"8d20e5056a8d24d0462ce74e4904c1b513e10d1df4a2ef2ad4540fae1ca0aaf9\"\n",
    "\n",
    "    ciphertext = bytes.fromhex(cipher_hex)\n",
    "\n",
    "    iv = bytes([0] * 16)\n",
    "\n",
    "    with open('words.txt', 'r') as wordlist:\n",
    "        for line in wordlist:\n",
    "            word = line.strip()\n",
    "\n",
    "            if len(word) > 16:\n",
    "                continue\n",
    "\n",
    "            key = word.ljust(16, ' ').encode('utf-8')\n",
    "\n",
    "            decrypted = decrypt(ciphertext, key, iv)\n",
    "\n",
    "            if decrypted == plaintext:\n",
    "                print(f\"Key found: '{word}'\")\n",
    "                return\n",
    "            else:\n",
    "                continue\n",
    "\n",
    "    print(\"Key not found.\")\n"
   ]
  },
  {
   "cell_type": "code",
   "execution_count": 21,
   "metadata": {},
   "outputs": [
    {
     "name": "stdout",
     "output_type": "stream",
     "text": [
      "Key found: 'median'\n"
     ]
    }
   ],
   "source": [
    "main()"
   ]
  },
  {
   "cell_type": "code",
   "execution_count": null,
   "metadata": {},
   "outputs": [],
   "source": []
  }
 ],
 "metadata": {
  "kernelspec": {
   "display_name": "base",
   "language": "python",
   "name": "python3"
  },
  "language_info": {
   "codemirror_mode": {
    "name": "ipython",
    "version": 3
   },
   "file_extension": ".py",
   "mimetype": "text/x-python",
   "name": "python",
   "nbconvert_exporter": "python",
   "pygments_lexer": "ipython3",
   "version": "3.11.5"
  }
 },
 "nbformat": 4,
 "nbformat_minor": 2
}
